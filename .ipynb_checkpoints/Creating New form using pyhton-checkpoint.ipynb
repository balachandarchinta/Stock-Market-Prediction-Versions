{
 "cells": [
  {
   "cell_type": "code",
   "execution_count": 1,
   "metadata": {},
   "outputs": [
    {
     "name": "stdout",
     "output_type": "stream",
     "text": [
      "Collecting openai\n",
      "  Downloading openai-1.33.0-py3-none-any.whl (325 kB)\n",
      "Collecting cached-property; python_version < \"3.8\"\n",
      "  Downloading cached_property-1.5.2-py2.py3-none-any.whl (7.6 kB)\n",
      "Collecting distro<2,>=1.7.0\n",
      "  Downloading distro-1.9.0-py3-none-any.whl (20 kB)\n",
      "Collecting typing-extensions<5,>=4.7\n",
      "  Downloading typing_extensions-4.7.1-py3-none-any.whl (33 kB)\n",
      "Collecting httpx<1,>=0.23.0\n",
      "  Downloading httpx-0.24.1-py3-none-any.whl (75 kB)\n",
      "Collecting anyio<5,>=3.5.0\n",
      "  Downloading anyio-3.7.1-py3-none-any.whl (80 kB)\n",
      "Requirement already satisfied: tqdm>4 in c:\\users\\jyks\\anaconda3\\lib\\site-packages (from openai) (4.42.1)\n",
      "Collecting pydantic<3,>=1.9.0\n",
      "  Downloading pydantic-2.5.3-py3-none-any.whl (381 kB)\n",
      "Collecting sniffio\n",
      "  Downloading sniffio-1.3.1-py3-none-any.whl (10 kB)\n",
      "Requirement already satisfied: certifi in c:\\users\\jyks\\anaconda3\\lib\\site-packages (from httpx<1,>=0.23.0->openai) (2019.11.28)\n",
      "Collecting httpcore<0.18.0,>=0.15.0\n",
      "  Downloading httpcore-0.17.3-py3-none-any.whl (74 kB)\n",
      "Requirement already satisfied: idna in c:\\users\\jyks\\anaconda3\\lib\\site-packages (from httpx<1,>=0.23.0->openai) (2.8)\n",
      "Collecting exceptiongroup; python_version < \"3.11\"\n",
      "  Downloading exceptiongroup-1.2.1-py3-none-any.whl (16 kB)\n",
      "Collecting pydantic-core==2.14.6\n",
      "  Downloading pydantic_core-2.14.6-cp37-none-win_amd64.whl (1.9 MB)\n",
      "Requirement already satisfied: importlib-metadata; python_version == \"3.7\" in c:\\users\\jyks\\anaconda3\\lib\\site-packages (from pydantic<3,>=1.9.0->openai) (1.5.0)\n",
      "Collecting annotated-types>=0.4.0\n",
      "  Downloading annotated_types-0.5.0-py3-none-any.whl (11 kB)\n",
      "Collecting h11<0.15,>=0.13\n",
      "  Downloading h11-0.14.0-py3-none-any.whl (58 kB)\n",
      "Requirement already satisfied: zipp>=0.5 in c:\\users\\jyks\\anaconda3\\lib\\site-packages (from importlib-metadata; python_version == \"3.7\"->pydantic<3,>=1.9.0->openai) (2.2.0)\n",
      "Installing collected packages: cached-property, distro, typing-extensions, exceptiongroup, sniffio, anyio, h11, httpcore, httpx, pydantic-core, annotated-types, pydantic, openai\n",
      "Successfully installed annotated-types-0.5.0 anyio-3.7.1 cached-property-1.5.2 distro-1.9.0 exceptiongroup-1.2.1 h11-0.14.0 httpcore-0.17.3 httpx-0.24.1 openai-1.33.0 pydantic-2.5.3 pydantic-core-2.14.6 sniffio-1.3.1 typing-extensions-4.7.1\n"
     ]
    }
   ],
   "source": [
    "!pip install openai"
   ]
  }
 ],
 "metadata": {
  "kernelspec": {
   "display_name": "Python 3",
   "language": "python",
   "name": "python3"
  },
  "language_info": {
   "codemirror_mode": {
    "name": "ipython",
    "version": 3
   },
   "file_extension": ".py",
   "mimetype": "text/x-python",
   "name": "python",
   "nbconvert_exporter": "python",
   "pygments_lexer": "ipython3",
   "version": "3.7.6"
  }
 },
 "nbformat": 4,
 "nbformat_minor": 4
}
