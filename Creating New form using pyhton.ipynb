{
 "cells": [
  {
   "cell_type": "code",
   "execution_count": null,
   "metadata": {},
   "outputs": [],
   "source": [
    "pip install --upgrade openai"
   ]
  },
  {
   "cell_type": "code",
   "execution_count": null,
   "metadata": {},
   "outputs": [],
   "source": [
    "import openai\n",
    "import os"
   ]
  },
  {
   "cell_type": "code",
   "execution_count": null,
   "metadata": {},
   "outputs": [],
   "source": []
  },
  {
   "cell_type": "code",
   "execution_count": null,
   "metadata": {},
   "outputs": [],
   "source": [
    "openai.api_key=os.environ.get(\"\")\n",
    "\n",
    "messages =[\n",
    "    {\"role\": \"system\", \"content\": \"You are a helpful assistant.\"},\n",
    "    {\"role\": \"user\", \"content\": \"Who won IPL 2020\"}\n",
    "]\n",
    "\n",
    "chat_response = openai.Completion.create(\n",
    "    model = \"gpt-3.5-turbo-16k\",\n",
    "    messages = messages\n",
    ")\n",
    "print(chat_response.choices[0].message['content'].strip())"
   ]
  },
  {
   "cell_type": "code",
   "execution_count": null,
   "metadata": {},
   "outputs": [],
   "source": [
    "base_prompt = '''You are a helpful Neural Network teaching assistant.\n",
    "Explain the various optimisation methods in Neaural network.\n",
    "Provide an exhaustive summary of the methods describing what they do,\n",
    "sample code for each, and guidelines on when to use which method.\n",
    "'''\n",
    "topic_name = \"Auto Encoders\"\n",
    "prompt1 = base_prompt.format(topic_name)\n",
    "print(prompt1)\n",
    "message = [{\"role\": \"user\", \"content\": prompt}]\n",
    "chat_response = openai.chat.completions.create(\n",
    "    model=\"gpt-3.5-turbo-16k\",\n",
    "    messages=message,\n",
    "    max_tokens=800,\n",
    "    temperature=0.5,\n",
    "    n=1,\n",
    "    stop=None,\n",
    "    frequency_penalty=0,\n",
    "    presence_penalty=0)\n",
    "\n",
    "print(chat_response.choices[0].message.content)"
   ]
  }
 ],
 "metadata": {
  "kernelspec": {
   "display_name": "Python 3",
   "language": "python",
   "name": "python3"
  },
  "language_info": {
   "codemirror_mode": {
    "name": "ipython",
    "version": 3
   },
   "file_extension": ".py",
   "mimetype": "text/x-python",
   "name": "python",
   "nbconvert_exporter": "python",
   "pygments_lexer": "ipython3",
   "version": "3.7.6"
  }
 },
 "nbformat": 4,
 "nbformat_minor": 4
}
